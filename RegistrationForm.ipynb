{
 "cells": [
  {
   "cell_type": "code",
   "execution_count": 1,
   "id": "934534a4-d2cc-49e1-bf7c-9b1376fd98c2",
   "metadata": {},
   "outputs": [],
   "source": [
    "import tkinter as tk\n",
    "from tkinter import messagebox\n",
    "\n",
    "def register_user():\n",
    "    username = username_entry.get()\n",
    "    email = email_entry.get()\n",
    "    password = password_entry.get()\n",
    "    confirm_password = confirm_password_entry.get()\n",
    "\n",
    "    if password != confirm_password:\n",
    "        messagebox.showerror(\"Error\", \"Passwords do not match!\")\n",
    "    else:\n",
    "        # You can add more validations and save the data to a file or database here\n",
    "        messagebox.showinfo(\"Success\", \"Registration successful!\")\n",
    "        # Clear the form\n",
    "        username_entry.delete(0, tk.END)\n",
    "        email_entry.delete(0, tk.END)\n",
    "        password_entry.delete(0, tk.END)\n",
    "        confirm_password_entry.delete(0, tk.END)\n",
    "\n",
    "# Set up the main application window\n",
    "root = tk.Tk()\n",
    "root.title(\"Registration Form\")\n",
    "\n",
    "# Create and place the labels and entries\n",
    "tk.Label(root, text=\"Username\").grid(row=0, column=0, padx=10, pady=5)\n",
    "tk.Label(root, text=\"Email\").grid(row=1, column=0, padx=10, pady=5)\n",
    "tk.Label(root, text=\"Password\").grid(row=2, column=0, padx=10, pady=5)\n",
    "tk.Label(root, text=\"Confirm Password\").grid(row=3, column=0, padx=10, pady=5)\n",
    "\n",
    "username_entry = tk.Entry(root)\n",
    "email_entry = tk.Entry(root)\n",
    "password_entry = tk.Entry(root, show=\"*\")\n",
    "confirm_password_entry = tk.Entry(root, show=\"*\")\n",
    "\n",
    "username_entry.grid(row=0, column=1, padx=10, pady=5)\n",
    "email_entry.grid(row=1, column=1, padx=10, pady=5)\n",
    "password_entry.grid(row=2, column=1, padx=10, pady=5)\n",
    "confirm_password_entry.grid(row=3, column=1, padx=10, pady=5)\n",
    "\n",
    "register_button = tk.Button(root, text=\"Register\", command=register_user)\n",
    "register_button.grid(row=4, column=0, columnspan=2, pady=10)\n",
    "\n",
    "# Run the application\n",
    "root.mainloop()\n"
   ]
  }
 ],
 "metadata": {
  "kernelspec": {
   "display_name": "Python 3 (ipykernel)",
   "language": "python",
   "name": "python3"
  },
  "language_info": {
   "codemirror_mode": {
    "name": "ipython",
    "version": 3
   },
   "file_extension": ".py",
   "mimetype": "text/x-python",
   "name": "python",
   "nbconvert_exporter": "python",
   "pygments_lexer": "ipython3",
   "version": "3.11.7"
  }
 },
 "nbformat": 4,
 "nbformat_minor": 5
}
